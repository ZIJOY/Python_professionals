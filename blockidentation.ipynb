{
 "cells": [
  {
   "cell_type": "code",
   "execution_count": 17,
   "metadata": {},
   "outputs": [
    {
     "name": "stdout",
     "output_type": "stream",
     "text": [
      "120\n"
     ]
    }
   ],
   "source": [
    "def my_function_1st():\n",
    "    ab = 120\n",
    "    return ab\n",
    "print(my_function_1st())"
   ]
  },
  {
   "cell_type": "code",
   "execution_count": 18,
   "metadata": {},
   "outputs": [
    {
     "name": "stdout",
     "output_type": "stream",
     "text": [
      "The bigger number is: 15\n"
     ]
    }
   ],
   "source": [
    "a = int(input('Enter the value of a :'))\n",
    "b = int(input('Enter the value of b :'))\n",
    "if a>b:\n",
    "    print(\"The greater number is:\", a)\n",
    "else:\n",
    "    print(\"The bigger number is:\", b)\n",
    "\n",
    "\n"
   ]
  },
  {
   "cell_type": "code",
   "execution_count": 19,
   "metadata": {},
   "outputs": [
    {
     "name": "stdout",
     "output_type": "stream",
     "text": [
      "124\n"
     ]
    }
   ],
   "source": [
    "a = int(input('Enter the value of a :'))\n",
    "b = int(input('Enter the value of b :'))\n",
    "if a>b: print(a)\n",
    "else: print (b)"
   ]
  },
  {
   "cell_type": "markdown",
   "metadata": {},
   "source": [
    "uno cot"
   ]
  },
  {
   "cell_type": "markdown",
   "metadata": {},
   "source": [
    "clock wise = True"
   ]
  },
  {
   "cell_type": "code",
   "execution_count": 20,
   "metadata": {},
   "outputs": [],
   "source": [
    "def will_be_implemented_soon():\n",
    "    pass\n",
    "    "
   ]
  },
  {
   "cell_type": "code",
   "execution_count": 22,
   "metadata": {},
   "outputs": [
    {
     "name": "stdout",
     "output_type": "stream",
     "text": [
      "Clock_wise\n"
     ]
    }
   ],
   "source": [
    "clock_wise = bool(input(\"Enter the current spin:\"))\n",
    "if (clock_wise := False):\n",
    "    print (\"Anti_Clock_wise\")\n",
    "else:\n",
    " print(\"Clock_wise\")"
   ]
  }
 ],
 "metadata": {
  "interpreter": {
   "hash": "188ea305bed457352374bdaff455186876d57e2aa492e1e00ee170b32ea9fa83"
  },
  "kernelspec": {
   "display_name": "Python 3.10.2 64-bit",
   "language": "python",
   "name": "python3"
  },
  "language_info": {
   "codemirror_mode": {
    "name": "ipython",
    "version": 3
   },
   "file_extension": ".py",
   "mimetype": "text/x-python",
   "name": "python",
   "nbconvert_exporter": "python",
   "pygments_lexer": "ipython3",
   "version": "3.10.2"
  },
  "orig_nbformat": 4
 },
 "nbformat": 4,
 "nbformat_minor": 2
}
